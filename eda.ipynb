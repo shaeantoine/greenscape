{
 "cells": [
  {
   "cell_type": "code",
   "execution_count": 8,
   "metadata": {},
   "outputs": [],
   "source": [
    "import pandas as pd\n",
    "import numpy as np\n",
    "from glob import glob\n",
    "import json"
   ]
  },
  {
   "cell_type": "code",
   "execution_count": 18,
   "metadata": {},
   "outputs": [
    {
     "name": "stdout",
     "output_type": "stream",
     "text": [
      "{'AAPL': 18365, 'FB': 10724, 'GOOG': 7014, 'AMZN': 6462, 'T': 4981, 'D': 4411, 'BABA': 3215, 'MSFT': 3117, 'PCLN': 2431, 'BAC': 2283, 'C': 2190, 'JPM': 1892, 'INTC': 1794, 'GE': 1724, 'DIS': 1722, 'XOM': 1632, 'WMT': 1552, 'MCD': 1495, 'PFE': 1415, 'KO': 1388, 'CSCO': 1358, 'CELG': 1314, 'V': 1186, 'JNJ': 1173, 'CVX': 1092, 'CAT': 1026, 'VZ': 1002, 'MRK': 983, 'WFC': 946, 'BA': 886, 'HD': 868, 'AMGN': 857, 'PG': 853, 'ABBV': 782, 'ORCL': 692, 'CMCSA': 665, 'MA': 665, 'BP': 572, 'UNH': 567, 'PEP': 541, 'MO': 499, 'MMM': 487, 'SLB': 459, 'UTX': 451, 'LMT': 410, 'MDT': 369, 'UPS': 331, 'BHP': 324, 'SO': 317, 'NVS': 286, 'CHTR': 284, 'GD': 283, 'PM': 265, 'HON': 255, 'EXC': 241, 'SNY': 238, 'CHL': 215, 'DUK': 212, 'NEE': 210, 'TM': 199, 'PCG': 198, 'AEP': 190, 'BUD': 188, 'DHR': 163, 'PPL': 162, 'TOT': 152, 'TSM': 118, 'SRE': 117, 'UN': 101, 'UL': 92, 'IEP': 92, 'HSBC': 90, 'BBL': 84, 'REX': 81, 'ABB': 79, 'PTR': 56, 'NGG': 37, 'HRG': 35, 'CODI': 33, 'SNP': 31, 'PICO': 17, 'BRK-A': 15, 'BSAC': 15, 'BCH': 9, 'SPLP': 8, 'RDS-B': 3, 'AGFS': 2}\n"
     ]
    }
   ],
   "source": [
    "company_dict = {}\n",
    "for f in glob(\"stock-price-predictions/tweet/*\"):\n",
    "    company = f.split(\"/\")[-1]\n",
    "    company_dict[company] = 0\n",
    "    for day_f in glob(f + \"/*\"):\n",
    "        data = []\n",
    "        with open(day_f, 'r') as f:\n",
    "            for line in f:\n",
    "                data.append(json.loads(line))\n",
    "        tweet_df = pd.DataFrame(data)\n",
    "        company_dict[company] += tweet_df.shape[0]\n",
    "\n",
    "company_dict = {k: v for k, v in sorted(company_dict.items(), key=lambda item: item[1], reverse=True)}\n",
    "print(company_dict)"
   ]
  }
 ],
 "metadata": {
  "kernelspec": {
   "display_name": "Python 3",
   "language": "python",
   "name": "python3"
  },
  "language_info": {
   "codemirror_mode": {
    "name": "ipython",
    "version": 3
   },
   "file_extension": ".py",
   "mimetype": "text/x-python",
   "name": "python",
   "nbconvert_exporter": "python",
   "pygments_lexer": "ipython3",
   "version": "3.11.9"
  }
 },
 "nbformat": 4,
 "nbformat_minor": 2
}
