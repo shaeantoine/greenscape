{
 "cells": [
  {
   "cell_type": "markdown",
   "id": "84659cc5-5841-49a0-a4eb-d6d2bbfd85b6",
   "metadata": {},
   "source": [
    "## Introduction to sentiment analysis"
   ]
  },
  {
   "cell_type": "markdown",
   "id": "f937e999-a9d9-46b8-bfee-160936c9bf64",
   "metadata": {},
   "source": [
    "Sentiment analysis is an NLP technique that identifies the polarity of text, labeling it as positive, negative, or neutral. \n",
    "For example, the tweet \n",
    "\n",
    ">\"@usyd.sudata I hate your coffee catchtups\"\n",
    ">\n",
    "would be tagged as \"Negative,\" while \n",
    "\n",
    ">\"@usyd.sudata I've sent you a DM\" \n",
    ">\n",
    "would be \"Neutral, and\n",
    ">\"Thanks to @usyd.sudata for running the best datathon ever\"\n",
    ">\n",
    "\n",
    "would be \"Positive.\"\n",
    "\n",
    "This method processes large-scale data in real-time, making it easy to analyze tweets, reviews, or support tickets automatically, providing insights for data-driven decisions and automating tasks.\n",
    "\n",
    "Common applications include:\n",
    "\n",
    "- Analyzing social media mentions to track brand sentiment.\n",
    "- Reviewing feedback to understand customer preferences.\n",
    "- Flagging support tickets to address issues before they lead to churn.\n"
   ]
  },
  {
   "cell_type": "markdown",
   "id": "eb3ff25a-b8a2-43f0-8373-410f0b079fbd",
   "metadata": {},
   "source": [
    "## Getting Started"
   ]
  },
  {
   "cell_type": "code",
   "execution_count": 118,
   "id": "b04eec4b-9088-4f8b-8aea-794a81d3824c",
   "metadata": {},
   "outputs": [],
   "source": [
    "from pathlib import Path\n",
    "import pandas as pd\n",
    "import numpy as np\n",
    "import seaborn as sns\n",
    "import matplotlib.pyplot as plt\n",
    "import os\n",
    "from tqdm import tqdm \n",
    "import json\n",
    "\n",
    "# Styling\n",
    "color_pal = sns.color_palette(\"Set2\")\n",
    "plt.style.use('seaborn-v0_8-colorblind') \n",
    "\n",
    "# Warnings control\n",
    "import warnings \n",
    "warnings.filterwarnings('ignore')\n"
   ]
  },
  {
   "cell_type": "markdown",
   "id": "fd1ad951-d2e3-4bde-aa31-98ff0ca8bfe9",
   "metadata": {},
   "source": [
    "We'll start by using a pretrained model that is specifically trained on tweets."
   ]
  },
  {
   "cell_type": "markdown",
   "id": "87a3edc3-6466-4929-a97f-77cc8223b4e4",
   "metadata": {},
   "source": [
    "Copy and paste this code and run it below:\n",
    "\n",
    "```!pip install -q -y transformers, emoji==0.6.0```"
   ]
  },
  {
   "cell_type": "code",
   "execution_count": 4,
   "id": "5881c498-0970-4de6-9a8a-6dbda146528b",
   "metadata": {},
   "outputs": [],
   "source": [
    "from transformers import pipeline"
   ]
  },
  {
   "cell_type": "markdown",
   "id": "59026654-1b0e-4374-b206-0136fc4b44e8",
   "metadata": {},
   "source": [
    "The following code will take ~2-3 minutes to run as it has to download a model. "
   ]
  },
  {
   "cell_type": "code",
   "execution_count": 155,
   "id": "878f4da8-7756-47c0-b274-be2b3b71b9d9",
   "metadata": {},
   "outputs": [
    {
     "name": "stderr",
     "output_type": "stream",
     "text": [
      "emoji is not installed, thus not converting emoticons or emojis into text. Install emoji: pip3 install emoji==0.6.0\n"
     ]
    }
   ],
   "source": [
    "sentiment_pipeline = pipeline(model=\"finiteautomata/bertweet-base-sentiment-analysis\", device = device)"
   ]
  },
  {
   "cell_type": "markdown",
   "id": "bb086afc-be6c-4520-9b24-22f9031aa09d",
   "metadata": {},
   "source": [
    "Ensure you are in the correct directory"
   ]
  },
  {
   "cell_type": "code",
   "execution_count": 156,
   "id": "f415f2c0-1bd1-42ea-9e40-cf2e69e5c0b3",
   "metadata": {},
   "outputs": [
    {
     "data": {
      "text/plain": [
       "'/home/kyan/documents'"
      ]
     },
     "execution_count": 156,
     "metadata": {},
     "output_type": "execute_result"
    }
   ],
   "source": [
    "os.getcwd()"
   ]
  },
  {
   "cell_type": "code",
   "execution_count": 157,
   "id": "cc7477be-9bb7-459c-8a27-4b629ab4a27c",
   "metadata": {},
   "outputs": [],
   "source": [
    "tweet_path = Path('sample-data/tweet/') # Update your path here\n",
    "data_path = Path('sample-data/price/') # Update your path here"
   ]
  },
  {
   "cell_type": "markdown",
   "id": "efe2f647-99fc-480e-aec3-e52003b257d8",
   "metadata": {},
   "source": [
    "Lets start by getting one day's worth of tweets and analysing the sentiment."
   ]
  },
  {
   "cell_type": "code",
   "execution_count": 158,
   "id": "183177ef-406f-47c0-9b79-2516dbf8d69c",
   "metadata": {},
   "outputs": [],
   "source": [
    "day = '2014-01-01'\n",
    "file_path = tweet_path / 'AAPL' / day"
   ]
  },
  {
   "cell_type": "code",
   "execution_count": 159,
   "id": "06b47a71-18ee-4d2e-9bea-a7c920dd06b2",
   "metadata": {},
   "outputs": [],
   "source": [
    "data = []\n",
    "with open(file_path, 'r') as f:\n",
    "    for line in f:\n",
    "        data.append(json.loads(line))\n",
    "tweet_df = pd.DataFrame(data)"
   ]
  },
  {
   "cell_type": "code",
   "execution_count": 160,
   "id": "2f210954-31d3-4ba4-baf2-63edeffb93c8",
   "metadata": {
    "scrolled": true
   },
   "outputs": [
    {
     "data": {
      "text/html": [
       "<div>\n",
       "<style scoped>\n",
       "    .dataframe tbody tr th:only-of-type {\n",
       "        vertical-align: middle;\n",
       "    }\n",
       "\n",
       "    .dataframe tbody tr th {\n",
       "        vertical-align: top;\n",
       "    }\n",
       "\n",
       "    .dataframe thead th {\n",
       "        text-align: right;\n",
       "    }\n",
       "</style>\n",
       "<table border=\"1\" class=\"dataframe\">\n",
       "  <thead>\n",
       "    <tr style=\"text-align: right;\">\n",
       "      <th></th>\n",
       "      <th>text</th>\n",
       "      <th>created_at</th>\n",
       "      <th>user_id_str</th>\n",
       "    </tr>\n",
       "  </thead>\n",
       "  <tbody>\n",
       "    <tr>\n",
       "      <th>0</th>\n",
       "      <td>[rt, AT_USER, summary, of, yesterday's, webcas...</td>\n",
       "      <td>Wed Jan 01 03:59:03 +0000 2014</td>\n",
       "      <td>1938270918</td>\n",
       "    </tr>\n",
       "    <tr>\n",
       "      <th>1</th>\n",
       "      <td>[rt, AT_USER, summary, of, yesterday's, webcas...</td>\n",
       "      <td>Wed Jan 01 03:29:29 +0000 2014</td>\n",
       "      <td>1933063572</td>\n",
       "    </tr>\n",
       "    <tr>\n",
       "      <th>2</th>\n",
       "      <td>[itv, will, boost, apple, URL, $, aapl, apple]</td>\n",
       "      <td>Wed Jan 01 18:08:47 +0000 2014</td>\n",
       "      <td>23059499</td>\n",
       "    </tr>\n",
       "    <tr>\n",
       "      <th>3</th>\n",
       "      <td>[iphone, users, are, more, intelligent, than, ...</td>\n",
       "      <td>Wed Jan 01 01:52:31 +0000 2014</td>\n",
       "      <td>23954327</td>\n",
       "    </tr>\n",
       "    <tr>\n",
       "      <th>4</th>\n",
       "      <td>[rt, AT_USER, summary, of, yesterday's, webcas...</td>\n",
       "      <td>Wed Jan 01 01:18:36 +0000 2014</td>\n",
       "      <td>1937591882</td>\n",
       "    </tr>\n",
       "    <tr>\n",
       "      <th>5</th>\n",
       "      <td>[2013, wrap-up, and, trading, set, review, -, ...</td>\n",
       "      <td>Wed Jan 01 10:52:20 +0000 2014</td>\n",
       "      <td>23059499</td>\n",
       "    </tr>\n",
       "    <tr>\n",
       "      <th>6</th>\n",
       "      <td>[apple, screwed, up, big, time, URL, $, amzn, ...</td>\n",
       "      <td>Wed Jan 01 15:01:12 +0000 2014</td>\n",
       "      <td>23669783</td>\n",
       "    </tr>\n",
       "    <tr>\n",
       "      <th>7</th>\n",
       "      <td>[rt, AT_USER, summary, of, yesterday's, webcas...</td>\n",
       "      <td>Tue Dec 31 23:10:08 +0000 2013</td>\n",
       "      <td>1864753100</td>\n",
       "    </tr>\n",
       "  </tbody>\n",
       "</table>\n",
       "</div>"
      ],
      "text/plain": [
       "                                                text  \\\n",
       "0  [rt, AT_USER, summary, of, yesterday's, webcas...   \n",
       "1  [rt, AT_USER, summary, of, yesterday's, webcas...   \n",
       "2     [itv, will, boost, apple, URL, $, aapl, apple]   \n",
       "3  [iphone, users, are, more, intelligent, than, ...   \n",
       "4  [rt, AT_USER, summary, of, yesterday's, webcas...   \n",
       "5  [2013, wrap-up, and, trading, set, review, -, ...   \n",
       "6  [apple, screwed, up, big, time, URL, $, amzn, ...   \n",
       "7  [rt, AT_USER, summary, of, yesterday's, webcas...   \n",
       "\n",
       "                       created_at user_id_str  \n",
       "0  Wed Jan 01 03:59:03 +0000 2014  1938270918  \n",
       "1  Wed Jan 01 03:29:29 +0000 2014  1933063572  \n",
       "2  Wed Jan 01 18:08:47 +0000 2014    23059499  \n",
       "3  Wed Jan 01 01:52:31 +0000 2014    23954327  \n",
       "4  Wed Jan 01 01:18:36 +0000 2014  1937591882  \n",
       "5  Wed Jan 01 10:52:20 +0000 2014    23059499  \n",
       "6  Wed Jan 01 15:01:12 +0000 2014    23669783  \n",
       "7  Tue Dec 31 23:10:08 +0000 2013  1864753100  "
      ]
     },
     "execution_count": 160,
     "metadata": {},
     "output_type": "execute_result"
    }
   ],
   "source": [
    "tweet_df"
   ]
  },
  {
   "cell_type": "code",
   "execution_count": 161,
   "id": "7f455d1f-cd0e-4211-8bca-d32edb20925c",
   "metadata": {},
   "outputs": [
    {
     "data": {
      "text/plain": [
       "\"rt AT_USER summary of yesterday's webcast featuring $ aapl $ wynn $ goog $ lgf tradereducation options hedgingstrategies - - URL\""
      ]
     },
     "execution_count": 161,
     "metadata": {},
     "output_type": "execute_result"
    }
   ],
   "source": [
    "\" \".join(tweet_df['text'].iloc[0])"
   ]
  },
  {
   "cell_type": "code",
   "execution_count": 162,
   "id": "62bf7f32-a94a-4f7c-bd1d-2703d8bc0867",
   "metadata": {},
   "outputs": [
    {
     "data": {
      "text/plain": [
       "[{'label': 'NEU', 'score': 0.924950361251831}]"
      ]
     },
     "execution_count": 162,
     "metadata": {},
     "output_type": "execute_result"
    }
   ],
   "source": [
    "sentiment_pipeline(\" \".join(tweet_df['text'].iloc[0]))"
   ]
  },
  {
   "cell_type": "code",
   "execution_count": 163,
   "id": "89352625-2c75-4b29-8751-df9d4586a3b2",
   "metadata": {},
   "outputs": [
    {
     "data": {
      "text/plain": [
       "0    {'label': 'NEU', 'score': 0.924950361251831}\n",
       "dtype: object"
      ]
     },
     "execution_count": 163,
     "metadata": {},
     "output_type": "execute_result"
    }
   ],
   "source": [
    "res = sentiment_pipeline(\" \".join(tweet_df['text'].iloc[0]))\n",
    "pd.Series(res)"
   ]
  },
  {
   "cell_type": "code",
   "execution_count": 164,
   "id": "58d397d7-4f37-423d-b8c6-42a6ee0bc4a4",
   "metadata": {},
   "outputs": [],
   "source": [
    "def analyze_sentiment(text_tokens_list):\n",
    "    # for each row in column, join the text tokens together into a single string\n",
    "    texts = [' '.join(text_tokens) for text_tokens in text_tokens_list]\n",
    "    # apply the sentiment analysis to the entire list\n",
    "    results = sentiment_pipeline(texts)\n",
    "    # extract labels and scores for each result\n",
    "    sentiments = [(res['label'], res['score']) for res in results]\n",
    "    \n",
    "    return sentiments"
   ]
  },
  {
   "cell_type": "code",
   "execution_count": 165,
   "id": "57bddaed-5fdc-4727-822c-367aeca346bb",
   "metadata": {},
   "outputs": [],
   "source": [
    "sentiment_df = pd.DataFrame(analyze_sentiment(tweet_df['text']), columns=['sentiment', 'score'])\n",
    "\n",
    "tweet_df = pd.concat([tweet_df, sentiment_df], axis=1)"
   ]
  },
  {
   "cell_type": "code",
   "execution_count": 166,
   "id": "792b36a6-9b95-4681-bef9-25a4594aa87d",
   "metadata": {},
   "outputs": [
    {
     "data": {
      "text/html": [
       "<div>\n",
       "<style scoped>\n",
       "    .dataframe tbody tr th:only-of-type {\n",
       "        vertical-align: middle;\n",
       "    }\n",
       "\n",
       "    .dataframe tbody tr th {\n",
       "        vertical-align: top;\n",
       "    }\n",
       "\n",
       "    .dataframe thead th {\n",
       "        text-align: right;\n",
       "    }\n",
       "</style>\n",
       "<table border=\"1\" class=\"dataframe\">\n",
       "  <thead>\n",
       "    <tr style=\"text-align: right;\">\n",
       "      <th></th>\n",
       "      <th>text</th>\n",
       "      <th>created_at</th>\n",
       "      <th>user_id_str</th>\n",
       "      <th>sentiment</th>\n",
       "      <th>score</th>\n",
       "    </tr>\n",
       "  </thead>\n",
       "  <tbody>\n",
       "    <tr>\n",
       "      <th>0</th>\n",
       "      <td>[rt, AT_USER, summary, of, yesterday's, webcas...</td>\n",
       "      <td>Wed Jan 01 03:59:03 +0000 2014</td>\n",
       "      <td>1938270918</td>\n",
       "      <td>NEU</td>\n",
       "      <td>0.924950</td>\n",
       "    </tr>\n",
       "    <tr>\n",
       "      <th>1</th>\n",
       "      <td>[rt, AT_USER, summary, of, yesterday's, webcas...</td>\n",
       "      <td>Wed Jan 01 03:29:29 +0000 2014</td>\n",
       "      <td>1933063572</td>\n",
       "      <td>NEU</td>\n",
       "      <td>0.924950</td>\n",
       "    </tr>\n",
       "    <tr>\n",
       "      <th>2</th>\n",
       "      <td>[itv, will, boost, apple, URL, $, aapl, apple]</td>\n",
       "      <td>Wed Jan 01 18:08:47 +0000 2014</td>\n",
       "      <td>23059499</td>\n",
       "      <td>POS</td>\n",
       "      <td>0.614266</td>\n",
       "    </tr>\n",
       "    <tr>\n",
       "      <th>3</th>\n",
       "      <td>[iphone, users, are, more, intelligent, than, ...</td>\n",
       "      <td>Wed Jan 01 01:52:31 +0000 2014</td>\n",
       "      <td>23954327</td>\n",
       "      <td>POS</td>\n",
       "      <td>0.879994</td>\n",
       "    </tr>\n",
       "    <tr>\n",
       "      <th>4</th>\n",
       "      <td>[rt, AT_USER, summary, of, yesterday's, webcas...</td>\n",
       "      <td>Wed Jan 01 01:18:36 +0000 2014</td>\n",
       "      <td>1937591882</td>\n",
       "      <td>NEU</td>\n",
       "      <td>0.924950</td>\n",
       "    </tr>\n",
       "  </tbody>\n",
       "</table>\n",
       "</div>"
      ],
      "text/plain": [
       "                                                text  \\\n",
       "0  [rt, AT_USER, summary, of, yesterday's, webcas...   \n",
       "1  [rt, AT_USER, summary, of, yesterday's, webcas...   \n",
       "2     [itv, will, boost, apple, URL, $, aapl, apple]   \n",
       "3  [iphone, users, are, more, intelligent, than, ...   \n",
       "4  [rt, AT_USER, summary, of, yesterday's, webcas...   \n",
       "\n",
       "                       created_at user_id_str sentiment     score  \n",
       "0  Wed Jan 01 03:59:03 +0000 2014  1938270918       NEU  0.924950  \n",
       "1  Wed Jan 01 03:29:29 +0000 2014  1933063572       NEU  0.924950  \n",
       "2  Wed Jan 01 18:08:47 +0000 2014    23059499       POS  0.614266  \n",
       "3  Wed Jan 01 01:52:31 +0000 2014    23954327       POS  0.879994  \n",
       "4  Wed Jan 01 01:18:36 +0000 2014  1937591882       NEU  0.924950  "
      ]
     },
     "execution_count": 166,
     "metadata": {},
     "output_type": "execute_result"
    }
   ],
   "source": [
    "tweet_df.head(5)"
   ]
  },
  {
   "cell_type": "markdown",
   "id": "3a50728a-24ee-4498-8684-f08948957631",
   "metadata": {},
   "source": [
    "## Getting the Majority Sentiment"
   ]
  },
  {
   "cell_type": "code",
   "execution_count": 152,
   "id": "a2c12cd1-c171-49eb-bb75-a8703fdc4999",
   "metadata": {},
   "outputs": [],
   "source": [
    "most_frequent_sentiment = tweet_df['sentiment'].mode().values.flatten()[0]"
   ]
  },
  {
   "cell_type": "code",
   "execution_count": 153,
   "id": "732b845d-50cd-473d-8627-9af0149f95cd",
   "metadata": {},
   "outputs": [
    {
     "data": {
      "text/plain": [
       "'NEGATIVE'"
      ]
     },
     "execution_count": 153,
     "metadata": {},
     "output_type": "execute_result"
    }
   ],
   "source": [
    "most_frequent_sentiment"
   ]
  },
  {
   "cell_type": "markdown",
   "id": "7f9eb214-1bb2-4156-8dbd-04a6f2776b7d",
   "metadata": {},
   "source": [
    "Most of the time, the most frequent sentiment will be neutral, which is not very helpful. Lets try to only use positive / negative sentiments instead."
   ]
  },
  {
   "cell_type": "code",
   "execution_count": 167,
   "id": "cbc927be-b7eb-4d50-9c7b-cb91be7812ce",
   "metadata": {},
   "outputs": [],
   "source": [
    "def determine_sentiment(sentiments):\n",
    "    # Count occurrences of \"POS\" and \"NEG\"\n",
    "    positive_count = sentiments.value_counts().get('POS', 0)\n",
    "    negative_count = sentiments.value_counts().get('NEG', 0)\n",
    "    \n",
    "    # Logic to decide the final sentiment\n",
    "    if positive_count > negative_count:\n",
    "        return 'POS'\n",
    "    elif positive_count < negative_count:\n",
    "        return 'NEG'\n",
    "    else:\n",
    "        return 'NEU'"
   ]
  },
  {
   "cell_type": "code",
   "execution_count": 168,
   "id": "5f1d4e92-7ba0-42bf-a33c-0e73c10cab0d",
   "metadata": {},
   "outputs": [
    {
     "data": {
      "text/plain": [
       "sentiment\n",
       "NEU    5\n",
       "POS    2\n",
       "NEG    1\n",
       "Name: count, dtype: int64"
      ]
     },
     "execution_count": 168,
     "metadata": {},
     "output_type": "execute_result"
    }
   ],
   "source": [
    "tweet_df['sentiment'].value_counts()"
   ]
  },
  {
   "cell_type": "code",
   "execution_count": 169,
   "id": "e7e2f937-2b6e-41d1-9151-c31aa0c4123f",
   "metadata": {},
   "outputs": [
    {
     "data": {
      "text/plain": [
       "'POS'"
      ]
     },
     "execution_count": 169,
     "metadata": {},
     "output_type": "execute_result"
    }
   ],
   "source": [
    "determine_sentiment(tweet_df['sentiment'])"
   ]
  },
  {
   "cell_type": "markdown",
   "id": "0ec0e928-e5bb-4462-9129-58479884da5e",
   "metadata": {},
   "source": [
    "### Getting the Majority Sentiment for all days"
   ]
  },
  {
   "cell_type": "code",
   "execution_count": 70,
   "id": "9a116f17-0dcb-4ac2-932e-f42cdc48c918",
   "metadata": {},
   "outputs": [],
   "source": [
    "stock = 'AAPL'\n",
    "stock_path = tweet_path / stock"
   ]
  },
  {
   "cell_type": "code",
   "execution_count": 80,
   "id": "788ed450-74f8-4b33-b0e8-e1359589a09f",
   "metadata": {},
   "outputs": [
    {
     "data": {
      "text/plain": [
       "['2015-05-15', '2015-07-22', '2014-10-25', '2014-12-18', '2014-04-30']"
      ]
     },
     "execution_count": 80,
     "metadata": {},
     "output_type": "execute_result"
    }
   ],
   "source": [
    "# gets list of dates in this dir\n",
    "files = [file.stem for file in stock_path.iterdir()]\n",
    "files[:5]"
   ]
  },
  {
   "cell_type": "code",
   "execution_count": 183,
   "id": "70cc7d70-8c75-4c7e-88d4-7625825ffc0f",
   "metadata": {},
   "outputs": [],
   "source": [
    "def get_sentiment(file_path):\n",
    "    data = []\n",
    "    with open(file_path, 'r') as f:\n",
    "        for line in f:\n",
    "            data.append(json.loads(line))\n",
    "\n",
    "    tweet_df = pd.DataFrame(data)\n",
    "    tweet_date = file_path.stem\n",
    "\n",
    "    # Apply sentiment analysis to the 'text' column and get all sentiments\n",
    "    sentiments = [item[0] for item in analyze_sentiment(tweet_df['text'])]\n",
    "    tweet_df['sentiment'] = sentiments\n",
    "\n",
    "    sentiment = determine_sentiment(tweet_df['sentiment'])\n",
    "\n",
    "    # Return the date and majority sentiment as a dictionary or other format\n",
    "    return {'Date': str(tweet_date), 'Sentiment': sentiment}"
   ]
  },
  {
   "cell_type": "code",
   "execution_count": 184,
   "id": "bac69056-66a2-45b4-ba93-7a18ab205381",
   "metadata": {},
   "outputs": [
    {
     "data": {
      "text/plain": [
       "{'Date': '2014-12-18', 'Sentiment': 'POS'}"
      ]
     },
     "execution_count": 184,
     "metadata": {},
     "output_type": "execute_result"
    }
   ],
   "source": [
    "get_sentiment(stock_path / files[3])"
   ]
  },
  {
   "cell_type": "code",
   "execution_count": 185,
   "id": "54e5f410-2c74-4615-9ca8-1ab382db0817",
   "metadata": {},
   "outputs": [
    {
     "name": "stderr",
     "output_type": "stream",
     "text": [
      "Processing all files:  32%|█████████████████████████████████████████████████████████████████████▍                                                                                                                                                     | 221/697 [00:33<00:30, 15.55it/s]"
     ]
    },
    {
     "name": "stdout",
     "output_type": "stream",
     "text": [
      "Sentiment parsing failed for sample-data/tweet/AAPL/.ipynb_checkpoints\n"
     ]
    },
    {
     "name": "stderr",
     "output_type": "stream",
     "text": [
      "Processing all files: 100%|███████████████████████████████████████████████████████████████████████████████████████████████████████████████████████████████████████████████████████████████████████████████████████████████████████████████████████████| 697/697 [01:40<00:00,  6.95it/s]\n"
     ]
    }
   ],
   "source": [
    "all_sentiments = []\n",
    "# Adds a progess bar for all the sentiments\n",
    "# This will take some time # 1-2 minutes\n",
    "for file in tqdm(files, \"Processing all files\"):\n",
    "    file_path = stock_path / file\n",
    "    try:\n",
    "        result = get_sentiment(file_path)\n",
    "        all_sentiments.append(result)\n",
    "    except:\n",
    "        print(f\"Sentiment parsing failed for {file_path}\")"
   ]
  },
  {
   "cell_type": "code",
   "execution_count": 186,
   "id": "47463032-05dc-46a9-8231-c6c3cb9b31a1",
   "metadata": {},
   "outputs": [
    {
     "data": {
      "text/plain": [
       "[{'Date': '2015-05-15', 'Sentiment': 'NEU'},\n",
       " {'Date': '2015-07-22', 'Sentiment': 'POS'},\n",
       " {'Date': '2014-10-25', 'Sentiment': 'NEU'},\n",
       " {'Date': '2014-12-18', 'Sentiment': 'POS'},\n",
       " {'Date': '2014-04-30', 'Sentiment': 'NEU'}]"
      ]
     },
     "execution_count": 186,
     "metadata": {},
     "output_type": "execute_result"
    }
   ],
   "source": [
    "all_sentiments[:5]"
   ]
  },
  {
   "cell_type": "markdown",
   "id": "93551ec2-48ec-451e-8b3c-e0688985a443",
   "metadata": {},
   "source": [
    "### Appending result to stock prices, and visualising"
   ]
  },
  {
   "cell_type": "code",
   "execution_count": 187,
   "id": "2175146b-1102-4743-8f4d-2ae3befcdcb7",
   "metadata": {},
   "outputs": [],
   "source": [
    "data_path = Path('sample-data/price/AAPL.csv') # Update your path here\n",
    "df = pd.read_csv(data_path, header=0)"
   ]
  },
  {
   "cell_type": "code",
   "execution_count": 188,
   "id": "0163afbc-a249-4294-9db9-8aaabf996980",
   "metadata": {},
   "outputs": [],
   "source": [
    "sentiment_df = pd.DataFrame(all_sentiments)"
   ]
  },
  {
   "cell_type": "code",
   "execution_count": 191,
   "id": "091d7749-6fb7-4540-99e0-0a320474e19b",
   "metadata": {},
   "outputs": [
    {
     "data": {
      "text/html": [
       "<div>\n",
       "<style scoped>\n",
       "    .dataframe tbody tr th:only-of-type {\n",
       "        vertical-align: middle;\n",
       "    }\n",
       "\n",
       "    .dataframe tbody tr th {\n",
       "        vertical-align: top;\n",
       "    }\n",
       "\n",
       "    .dataframe thead th {\n",
       "        text-align: right;\n",
       "    }\n",
       "</style>\n",
       "<table border=\"1\" class=\"dataframe\">\n",
       "  <thead>\n",
       "    <tr style=\"text-align: right;\">\n",
       "      <th></th>\n",
       "      <th>Date</th>\n",
       "      <th>Sentiment</th>\n",
       "    </tr>\n",
       "  </thead>\n",
       "  <tbody>\n",
       "    <tr>\n",
       "      <th>0</th>\n",
       "      <td>2015-05-15</td>\n",
       "      <td>NEU</td>\n",
       "    </tr>\n",
       "    <tr>\n",
       "      <th>1</th>\n",
       "      <td>2015-07-22</td>\n",
       "      <td>POS</td>\n",
       "    </tr>\n",
       "    <tr>\n",
       "      <th>2</th>\n",
       "      <td>2014-10-25</td>\n",
       "      <td>NEU</td>\n",
       "    </tr>\n",
       "    <tr>\n",
       "      <th>3</th>\n",
       "      <td>2014-12-18</td>\n",
       "      <td>POS</td>\n",
       "    </tr>\n",
       "    <tr>\n",
       "      <th>4</th>\n",
       "      <td>2014-04-30</td>\n",
       "      <td>NEU</td>\n",
       "    </tr>\n",
       "  </tbody>\n",
       "</table>\n",
       "</div>"
      ],
      "text/plain": [
       "         Date Sentiment\n",
       "0  2015-05-15       NEU\n",
       "1  2015-07-22       POS\n",
       "2  2014-10-25       NEU\n",
       "3  2014-12-18       POS\n",
       "4  2014-04-30       NEU"
      ]
     },
     "execution_count": 191,
     "metadata": {},
     "output_type": "execute_result"
    }
   ],
   "source": [
    "sentiment_df.head()"
   ]
  },
  {
   "cell_type": "code",
   "execution_count": 229,
   "id": "60fc1c17-5c13-4bd0-8b76-4b6c39dc6fb7",
   "metadata": {},
   "outputs": [],
   "source": [
    "sentiment_df = sentiment_df.sort_values('Date')"
   ]
  },
  {
   "cell_type": "code",
   "execution_count": 196,
   "id": "30c5354a-c77f-4ba7-a6d7-d1ee26260112",
   "metadata": {},
   "outputs": [],
   "source": [
    "sentiment_df.set_index('Date', inplace=True)\n",
    "sentiment_df.index = pd.to_datetime(sentiment_df.index)"
   ]
  },
  {
   "cell_type": "code",
   "execution_count": 230,
   "id": "f49e6363-cd3e-44bc-9b28-3803c07e095f",
   "metadata": {},
   "outputs": [
    {
     "data": {
      "text/html": [
       "<div>\n",
       "<style scoped>\n",
       "    .dataframe tbody tr th:only-of-type {\n",
       "        vertical-align: middle;\n",
       "    }\n",
       "\n",
       "    .dataframe tbody tr th {\n",
       "        vertical-align: top;\n",
       "    }\n",
       "\n",
       "    .dataframe thead th {\n",
       "        text-align: right;\n",
       "    }\n",
       "</style>\n",
       "<table border=\"1\" class=\"dataframe\">\n",
       "  <thead>\n",
       "    <tr style=\"text-align: right;\">\n",
       "      <th></th>\n",
       "      <th>Sentiment</th>\n",
       "    </tr>\n",
       "    <tr>\n",
       "      <th>Date</th>\n",
       "      <th></th>\n",
       "    </tr>\n",
       "  </thead>\n",
       "  <tbody>\n",
       "    <tr>\n",
       "      <th>2014-01-01</th>\n",
       "      <td>POS</td>\n",
       "    </tr>\n",
       "    <tr>\n",
       "      <th>2014-01-02</th>\n",
       "      <td>POS</td>\n",
       "    </tr>\n",
       "    <tr>\n",
       "      <th>2014-01-03</th>\n",
       "      <td>POS</td>\n",
       "    </tr>\n",
       "    <tr>\n",
       "      <th>2014-01-04</th>\n",
       "      <td>NEU</td>\n",
       "    </tr>\n",
       "    <tr>\n",
       "      <th>2014-01-05</th>\n",
       "      <td>POS</td>\n",
       "    </tr>\n",
       "    <tr>\n",
       "      <th>...</th>\n",
       "      <td>...</td>\n",
       "    </tr>\n",
       "    <tr>\n",
       "      <th>2015-12-27</th>\n",
       "      <td>POS</td>\n",
       "    </tr>\n",
       "    <tr>\n",
       "      <th>2015-12-28</th>\n",
       "      <td>POS</td>\n",
       "    </tr>\n",
       "    <tr>\n",
       "      <th>2015-12-29</th>\n",
       "      <td>POS</td>\n",
       "    </tr>\n",
       "    <tr>\n",
       "      <th>2015-12-30</th>\n",
       "      <td>POS</td>\n",
       "    </tr>\n",
       "    <tr>\n",
       "      <th>2015-12-31</th>\n",
       "      <td>POS</td>\n",
       "    </tr>\n",
       "  </tbody>\n",
       "</table>\n",
       "<p>696 rows × 1 columns</p>\n",
       "</div>"
      ],
      "text/plain": [
       "           Sentiment\n",
       "Date                \n",
       "2014-01-01       POS\n",
       "2014-01-02       POS\n",
       "2014-01-03       POS\n",
       "2014-01-04       NEU\n",
       "2014-01-05       POS\n",
       "...              ...\n",
       "2015-12-27       POS\n",
       "2015-12-28       POS\n",
       "2015-12-29       POS\n",
       "2015-12-30       POS\n",
       "2015-12-31       POS\n",
       "\n",
       "[696 rows x 1 columns]"
      ]
     },
     "execution_count": 230,
     "metadata": {},
     "output_type": "execute_result"
    }
   ],
   "source": [
    "sentiment_df"
   ]
  },
  {
   "cell_type": "code",
   "execution_count": 199,
   "id": "bf9286b3-6559-4610-b084-fb521bcf8f50",
   "metadata": {},
   "outputs": [],
   "source": [
    "df.set_index('Date', inplace=True)\n",
    "df.index = pd.to_datetime(df.index)"
   ]
  },
  {
   "cell_type": "code",
   "execution_count": 200,
   "id": "afb4c919-073f-4f5c-b070-a947cc9c072c",
   "metadata": {},
   "outputs": [
    {
     "data": {
      "text/html": [
       "<div>\n",
       "<style scoped>\n",
       "    .dataframe tbody tr th:only-of-type {\n",
       "        vertical-align: middle;\n",
       "    }\n",
       "\n",
       "    .dataframe tbody tr th {\n",
       "        vertical-align: top;\n",
       "    }\n",
       "\n",
       "    .dataframe thead th {\n",
       "        text-align: right;\n",
       "    }\n",
       "</style>\n",
       "<table border=\"1\" class=\"dataframe\">\n",
       "  <thead>\n",
       "    <tr style=\"text-align: right;\">\n",
       "      <th></th>\n",
       "      <th>Open</th>\n",
       "      <th>High</th>\n",
       "      <th>Low</th>\n",
       "      <th>Close</th>\n",
       "      <th>Adj Close</th>\n",
       "      <th>Volume</th>\n",
       "    </tr>\n",
       "    <tr>\n",
       "      <th>Date</th>\n",
       "      <th></th>\n",
       "      <th></th>\n",
       "      <th></th>\n",
       "      <th></th>\n",
       "      <th></th>\n",
       "      <th></th>\n",
       "    </tr>\n",
       "  </thead>\n",
       "  <tbody>\n",
       "    <tr>\n",
       "      <th>2012-09-04</th>\n",
       "      <td>95.108574</td>\n",
       "      <td>96.448570</td>\n",
       "      <td>94.928574</td>\n",
       "      <td>96.424286</td>\n",
       "      <td>87.121140</td>\n",
       "      <td>91973000</td>\n",
       "    </tr>\n",
       "    <tr>\n",
       "      <th>2012-09-05</th>\n",
       "      <td>96.510002</td>\n",
       "      <td>96.621429</td>\n",
       "      <td>95.657143</td>\n",
       "      <td>95.747147</td>\n",
       "      <td>86.509338</td>\n",
       "      <td>84093800</td>\n",
       "    </tr>\n",
       "    <tr>\n",
       "      <th>2012-09-06</th>\n",
       "      <td>96.167145</td>\n",
       "      <td>96.898575</td>\n",
       "      <td>95.828575</td>\n",
       "      <td>96.610001</td>\n",
       "      <td>87.288956</td>\n",
       "      <td>97799100</td>\n",
       "    </tr>\n",
       "    <tr>\n",
       "      <th>2012-09-07</th>\n",
       "      <td>96.864288</td>\n",
       "      <td>97.497147</td>\n",
       "      <td>96.538574</td>\n",
       "      <td>97.205711</td>\n",
       "      <td>87.827171</td>\n",
       "      <td>82416600</td>\n",
       "    </tr>\n",
       "    <tr>\n",
       "      <th>2012-09-10</th>\n",
       "      <td>97.207146</td>\n",
       "      <td>97.612854</td>\n",
       "      <td>94.585716</td>\n",
       "      <td>94.677139</td>\n",
       "      <td>85.542564</td>\n",
       "      <td>121999500</td>\n",
       "    </tr>\n",
       "    <tr>\n",
       "      <th>...</th>\n",
       "      <td>...</td>\n",
       "      <td>...</td>\n",
       "      <td>...</td>\n",
       "      <td>...</td>\n",
       "      <td>...</td>\n",
       "      <td>...</td>\n",
       "    </tr>\n",
       "    <tr>\n",
       "      <th>2017-08-28</th>\n",
       "      <td>160.139999</td>\n",
       "      <td>162.000000</td>\n",
       "      <td>159.929993</td>\n",
       "      <td>161.470001</td>\n",
       "      <td>161.470001</td>\n",
       "      <td>25966000</td>\n",
       "    </tr>\n",
       "    <tr>\n",
       "      <th>2017-08-29</th>\n",
       "      <td>160.100006</td>\n",
       "      <td>163.119995</td>\n",
       "      <td>160.000000</td>\n",
       "      <td>162.910004</td>\n",
       "      <td>162.910004</td>\n",
       "      <td>29516900</td>\n",
       "    </tr>\n",
       "    <tr>\n",
       "      <th>2017-08-30</th>\n",
       "      <td>163.800003</td>\n",
       "      <td>163.889999</td>\n",
       "      <td>162.610001</td>\n",
       "      <td>163.350006</td>\n",
       "      <td>163.350006</td>\n",
       "      <td>27269600</td>\n",
       "    </tr>\n",
       "    <tr>\n",
       "      <th>2017-08-31</th>\n",
       "      <td>163.639999</td>\n",
       "      <td>164.520004</td>\n",
       "      <td>163.479996</td>\n",
       "      <td>164.000000</td>\n",
       "      <td>164.000000</td>\n",
       "      <td>26785100</td>\n",
       "    </tr>\n",
       "    <tr>\n",
       "      <th>2017-09-01</th>\n",
       "      <td>164.800003</td>\n",
       "      <td>164.940002</td>\n",
       "      <td>163.630005</td>\n",
       "      <td>164.050003</td>\n",
       "      <td>164.050003</td>\n",
       "      <td>16552800</td>\n",
       "    </tr>\n",
       "  </tbody>\n",
       "</table>\n",
       "<p>1258 rows × 6 columns</p>\n",
       "</div>"
      ],
      "text/plain": [
       "                  Open        High         Low       Close   Adj Close  \\\n",
       "Date                                                                     \n",
       "2012-09-04   95.108574   96.448570   94.928574   96.424286   87.121140   \n",
       "2012-09-05   96.510002   96.621429   95.657143   95.747147   86.509338   \n",
       "2012-09-06   96.167145   96.898575   95.828575   96.610001   87.288956   \n",
       "2012-09-07   96.864288   97.497147   96.538574   97.205711   87.827171   \n",
       "2012-09-10   97.207146   97.612854   94.585716   94.677139   85.542564   \n",
       "...                ...         ...         ...         ...         ...   \n",
       "2017-08-28  160.139999  162.000000  159.929993  161.470001  161.470001   \n",
       "2017-08-29  160.100006  163.119995  160.000000  162.910004  162.910004   \n",
       "2017-08-30  163.800003  163.889999  162.610001  163.350006  163.350006   \n",
       "2017-08-31  163.639999  164.520004  163.479996  164.000000  164.000000   \n",
       "2017-09-01  164.800003  164.940002  163.630005  164.050003  164.050003   \n",
       "\n",
       "               Volume  \n",
       "Date                   \n",
       "2012-09-04   91973000  \n",
       "2012-09-05   84093800  \n",
       "2012-09-06   97799100  \n",
       "2012-09-07   82416600  \n",
       "2012-09-10  121999500  \n",
       "...               ...  \n",
       "2017-08-28   25966000  \n",
       "2017-08-29   29516900  \n",
       "2017-08-30   27269600  \n",
       "2017-08-31   26785100  \n",
       "2017-09-01   16552800  \n",
       "\n",
       "[1258 rows x 6 columns]"
      ]
     },
     "execution_count": 200,
     "metadata": {},
     "output_type": "execute_result"
    }
   ],
   "source": [
    "df"
   ]
  },
  {
   "cell_type": "code",
   "execution_count": 201,
   "id": "d9230406-1272-45a3-b365-de8c46191ecc",
   "metadata": {},
   "outputs": [],
   "source": [
    "combined_df = pd.merge(df, sentiment_df, left_index=True, right_index=True, how='outer')"
   ]
  },
  {
   "cell_type": "code",
   "execution_count": 218,
   "id": "b8811369-312b-4f5f-b40b-4556e0c330b1",
   "metadata": {},
   "outputs": [
    {
     "data": {
      "text/html": [
       "<div>\n",
       "<style scoped>\n",
       "    .dataframe tbody tr th:only-of-type {\n",
       "        vertical-align: middle;\n",
       "    }\n",
       "\n",
       "    .dataframe tbody tr th {\n",
       "        vertical-align: top;\n",
       "    }\n",
       "\n",
       "    .dataframe thead th {\n",
       "        text-align: right;\n",
       "    }\n",
       "</style>\n",
       "<table border=\"1\" class=\"dataframe\">\n",
       "  <thead>\n",
       "    <tr style=\"text-align: right;\">\n",
       "      <th></th>\n",
       "      <th>Open</th>\n",
       "      <th>High</th>\n",
       "      <th>Low</th>\n",
       "      <th>Close</th>\n",
       "      <th>Adj Close</th>\n",
       "      <th>Volume</th>\n",
       "      <th>Sentiment</th>\n",
       "      <th>color</th>\n",
       "    </tr>\n",
       "    <tr>\n",
       "      <th>Date</th>\n",
       "      <th></th>\n",
       "      <th></th>\n",
       "      <th></th>\n",
       "      <th></th>\n",
       "      <th></th>\n",
       "      <th></th>\n",
       "      <th></th>\n",
       "      <th></th>\n",
       "    </tr>\n",
       "  </thead>\n",
       "  <tbody>\n",
       "    <tr>\n",
       "      <th>2012-09-04</th>\n",
       "      <td>95.108574</td>\n",
       "      <td>96.448570</td>\n",
       "      <td>94.928574</td>\n",
       "      <td>96.424286</td>\n",
       "      <td>87.121140</td>\n",
       "      <td>91973000.0</td>\n",
       "      <td>NaN</td>\n",
       "      <td>NaN</td>\n",
       "    </tr>\n",
       "    <tr>\n",
       "      <th>2012-09-05</th>\n",
       "      <td>96.510002</td>\n",
       "      <td>96.621429</td>\n",
       "      <td>95.657143</td>\n",
       "      <td>95.747147</td>\n",
       "      <td>86.509338</td>\n",
       "      <td>84093800.0</td>\n",
       "      <td>NaN</td>\n",
       "      <td>NaN</td>\n",
       "    </tr>\n",
       "    <tr>\n",
       "      <th>2012-09-06</th>\n",
       "      <td>96.167145</td>\n",
       "      <td>96.898575</td>\n",
       "      <td>95.828575</td>\n",
       "      <td>96.610001</td>\n",
       "      <td>87.288956</td>\n",
       "      <td>97799100.0</td>\n",
       "      <td>NaN</td>\n",
       "      <td>NaN</td>\n",
       "    </tr>\n",
       "    <tr>\n",
       "      <th>2012-09-07</th>\n",
       "      <td>96.864288</td>\n",
       "      <td>97.497147</td>\n",
       "      <td>96.538574</td>\n",
       "      <td>97.205711</td>\n",
       "      <td>87.827171</td>\n",
       "      <td>82416600.0</td>\n",
       "      <td>NaN</td>\n",
       "      <td>NaN</td>\n",
       "    </tr>\n",
       "    <tr>\n",
       "      <th>2012-09-10</th>\n",
       "      <td>97.207146</td>\n",
       "      <td>97.612854</td>\n",
       "      <td>94.585716</td>\n",
       "      <td>94.677139</td>\n",
       "      <td>85.542564</td>\n",
       "      <td>121999500.0</td>\n",
       "      <td>NaN</td>\n",
       "      <td>NaN</td>\n",
       "    </tr>\n",
       "  </tbody>\n",
       "</table>\n",
       "</div>"
      ],
      "text/plain": [
       "                 Open       High        Low      Close  Adj Close  \\\n",
       "Date                                                                \n",
       "2012-09-04  95.108574  96.448570  94.928574  96.424286  87.121140   \n",
       "2012-09-05  96.510002  96.621429  95.657143  95.747147  86.509338   \n",
       "2012-09-06  96.167145  96.898575  95.828575  96.610001  87.288956   \n",
       "2012-09-07  96.864288  97.497147  96.538574  97.205711  87.827171   \n",
       "2012-09-10  97.207146  97.612854  94.585716  94.677139  85.542564   \n",
       "\n",
       "                 Volume Sentiment color  \n",
       "Date                                     \n",
       "2012-09-04   91973000.0       NaN   NaN  \n",
       "2012-09-05   84093800.0       NaN   NaN  \n",
       "2012-09-06   97799100.0       NaN   NaN  \n",
       "2012-09-07   82416600.0       NaN   NaN  \n",
       "2012-09-10  121999500.0       NaN   NaN  "
      ]
     },
     "execution_count": 218,
     "metadata": {},
     "output_type": "execute_result"
    }
   ],
   "source": [
    "combined_df.head()"
   ]
  },
  {
   "cell_type": "code",
   "execution_count": 216,
   "id": "d90ea830-7ba9-4af9-b788-4acc46cf89b1",
   "metadata": {},
   "outputs": [
    {
     "data": {
      "text/plain": [
       "Sentiment\n",
       "POS    537\n",
       "NEU     81\n",
       "NEG     78\n",
       "Name: count, dtype: int64"
      ]
     },
     "execution_count": 216,
     "metadata": {},
     "output_type": "execute_result"
    }
   ],
   "source": [
    "combined_df['Sentiment'].value_counts()="
   ]
  },
  {
   "cell_type": "code",
   "execution_count": 220,
   "id": "0abd398f-70ab-42ef-93ca-030acd531bcb",
   "metadata": {},
   "outputs": [
    {
     "data": {
      "text/html": [
       "<div>\n",
       "<style scoped>\n",
       "    .dataframe tbody tr th:only-of-type {\n",
       "        vertical-align: middle;\n",
       "    }\n",
       "\n",
       "    .dataframe tbody tr th {\n",
       "        vertical-align: top;\n",
       "    }\n",
       "\n",
       "    .dataframe thead th {\n",
       "        text-align: right;\n",
       "    }\n",
       "</style>\n",
       "<table border=\"1\" class=\"dataframe\">\n",
       "  <thead>\n",
       "    <tr style=\"text-align: right;\">\n",
       "      <th></th>\n",
       "      <th>Open</th>\n",
       "      <th>High</th>\n",
       "      <th>Low</th>\n",
       "      <th>Close</th>\n",
       "      <th>Adj Close</th>\n",
       "      <th>Volume</th>\n",
       "      <th>Sentiment</th>\n",
       "      <th>color</th>\n",
       "    </tr>\n",
       "    <tr>\n",
       "      <th>Date</th>\n",
       "      <th></th>\n",
       "      <th></th>\n",
       "      <th></th>\n",
       "      <th></th>\n",
       "      <th></th>\n",
       "      <th></th>\n",
       "      <th></th>\n",
       "      <th></th>\n",
       "    </tr>\n",
       "  </thead>\n",
       "  <tbody>\n",
       "    <tr>\n",
       "      <th>2012-09-04</th>\n",
       "      <td>95.108574</td>\n",
       "      <td>96.448570</td>\n",
       "      <td>94.928574</td>\n",
       "      <td>96.424286</td>\n",
       "      <td>87.121140</td>\n",
       "      <td>91973000.0</td>\n",
       "      <td>NaN</td>\n",
       "      <td>NaN</td>\n",
       "    </tr>\n",
       "    <tr>\n",
       "      <th>2012-09-05</th>\n",
       "      <td>96.510002</td>\n",
       "      <td>96.621429</td>\n",
       "      <td>95.657143</td>\n",
       "      <td>95.747147</td>\n",
       "      <td>86.509338</td>\n",
       "      <td>84093800.0</td>\n",
       "      <td>NaN</td>\n",
       "      <td>NaN</td>\n",
       "    </tr>\n",
       "    <tr>\n",
       "      <th>2012-09-06</th>\n",
       "      <td>96.167145</td>\n",
       "      <td>96.898575</td>\n",
       "      <td>95.828575</td>\n",
       "      <td>96.610001</td>\n",
       "      <td>87.288956</td>\n",
       "      <td>97799100.0</td>\n",
       "      <td>NaN</td>\n",
       "      <td>NaN</td>\n",
       "    </tr>\n",
       "    <tr>\n",
       "      <th>2012-09-07</th>\n",
       "      <td>96.864288</td>\n",
       "      <td>97.497147</td>\n",
       "      <td>96.538574</td>\n",
       "      <td>97.205711</td>\n",
       "      <td>87.827171</td>\n",
       "      <td>82416600.0</td>\n",
       "      <td>NaN</td>\n",
       "      <td>NaN</td>\n",
       "    </tr>\n",
       "    <tr>\n",
       "      <th>2012-09-10</th>\n",
       "      <td>97.207146</td>\n",
       "      <td>97.612854</td>\n",
       "      <td>94.585716</td>\n",
       "      <td>94.677139</td>\n",
       "      <td>85.542564</td>\n",
       "      <td>121999500.0</td>\n",
       "      <td>NaN</td>\n",
       "      <td>NaN</td>\n",
       "    </tr>\n",
       "    <tr>\n",
       "      <th>...</th>\n",
       "      <td>...</td>\n",
       "      <td>...</td>\n",
       "      <td>...</td>\n",
       "      <td>...</td>\n",
       "      <td>...</td>\n",
       "      <td>...</td>\n",
       "      <td>...</td>\n",
       "      <td>...</td>\n",
       "    </tr>\n",
       "    <tr>\n",
       "      <th>2017-08-28</th>\n",
       "      <td>160.139999</td>\n",
       "      <td>162.000000</td>\n",
       "      <td>159.929993</td>\n",
       "      <td>161.470001</td>\n",
       "      <td>161.470001</td>\n",
       "      <td>25966000.0</td>\n",
       "      <td>NaN</td>\n",
       "      <td>NaN</td>\n",
       "    </tr>\n",
       "    <tr>\n",
       "      <th>2017-08-29</th>\n",
       "      <td>160.100006</td>\n",
       "      <td>163.119995</td>\n",
       "      <td>160.000000</td>\n",
       "      <td>162.910004</td>\n",
       "      <td>162.910004</td>\n",
       "      <td>29516900.0</td>\n",
       "      <td>NaN</td>\n",
       "      <td>NaN</td>\n",
       "    </tr>\n",
       "    <tr>\n",
       "      <th>2017-08-30</th>\n",
       "      <td>163.800003</td>\n",
       "      <td>163.889999</td>\n",
       "      <td>162.610001</td>\n",
       "      <td>163.350006</td>\n",
       "      <td>163.350006</td>\n",
       "      <td>27269600.0</td>\n",
       "      <td>NaN</td>\n",
       "      <td>NaN</td>\n",
       "    </tr>\n",
       "    <tr>\n",
       "      <th>2017-08-31</th>\n",
       "      <td>163.639999</td>\n",
       "      <td>164.520004</td>\n",
       "      <td>163.479996</td>\n",
       "      <td>164.000000</td>\n",
       "      <td>164.000000</td>\n",
       "      <td>26785100.0</td>\n",
       "      <td>NaN</td>\n",
       "      <td>NaN</td>\n",
       "    </tr>\n",
       "    <tr>\n",
       "      <th>2017-09-01</th>\n",
       "      <td>164.800003</td>\n",
       "      <td>164.940002</td>\n",
       "      <td>163.630005</td>\n",
       "      <td>164.050003</td>\n",
       "      <td>164.050003</td>\n",
       "      <td>16552800.0</td>\n",
       "      <td>NaN</td>\n",
       "      <td>NaN</td>\n",
       "    </tr>\n",
       "  </tbody>\n",
       "</table>\n",
       "<p>1474 rows × 8 columns</p>\n",
       "</div>"
      ],
      "text/plain": [
       "                  Open        High         Low       Close   Adj Close  \\\n",
       "Date                                                                     \n",
       "2012-09-04   95.108574   96.448570   94.928574   96.424286   87.121140   \n",
       "2012-09-05   96.510002   96.621429   95.657143   95.747147   86.509338   \n",
       "2012-09-06   96.167145   96.898575   95.828575   96.610001   87.288956   \n",
       "2012-09-07   96.864288   97.497147   96.538574   97.205711   87.827171   \n",
       "2012-09-10   97.207146   97.612854   94.585716   94.677139   85.542564   \n",
       "...                ...         ...         ...         ...         ...   \n",
       "2017-08-28  160.139999  162.000000  159.929993  161.470001  161.470001   \n",
       "2017-08-29  160.100006  163.119995  160.000000  162.910004  162.910004   \n",
       "2017-08-30  163.800003  163.889999  162.610001  163.350006  163.350006   \n",
       "2017-08-31  163.639999  164.520004  163.479996  164.000000  164.000000   \n",
       "2017-09-01  164.800003  164.940002  163.630005  164.050003  164.050003   \n",
       "\n",
       "                 Volume Sentiment color  \n",
       "Date                                     \n",
       "2012-09-04   91973000.0       NaN   NaN  \n",
       "2012-09-05   84093800.0       NaN   NaN  \n",
       "2012-09-06   97799100.0       NaN   NaN  \n",
       "2012-09-07   82416600.0       NaN   NaN  \n",
       "2012-09-10  121999500.0       NaN   NaN  \n",
       "...                 ...       ...   ...  \n",
       "2017-08-28   25966000.0       NaN   NaN  \n",
       "2017-08-29   29516900.0       NaN   NaN  \n",
       "2017-08-30   27269600.0       NaN   NaN  \n",
       "2017-08-31   26785100.0       NaN   NaN  \n",
       "2017-09-01   16552800.0       NaN   NaN  \n",
       "\n",
       "[1474 rows x 8 columns]"
      ]
     },
     "execution_count": 220,
     "metadata": {},
     "output_type": "execute_result"
    }
   ],
   "source": [
    "combined_df"
   ]
  },
  {
   "cell_type": "code",
   "execution_count": 252,
   "id": "661e20c8-d5b1-4dbf-a378-371db02250a7",
   "metadata": {},
   "outputs": [
    {
     "data": {
      "text/plain": [
       "Text(0, 0.5, 'Opening Price')"
      ]
     },
     "execution_count": 252,
     "metadata": {},
     "output_type": "execute_result"
    },
    {
     "data": {
      "image/png": "[encoded data removed]",
      "text/plain": [
       "<Figure size 1500x500 with 1 Axes>"
      ]
     },
     "metadata": {},
     "output_type": "display_data"
    }
   ],
   "source": [
    "df = combined_df.loc[(combined_df.index > '2014-01-01') & (combined_df.index < '2015-12-31')]\n",
    "\n",
    "\n",
    "fig, ax = plt.subplots(figsize=(15, 5))\n",
    "ax.plot(df.index, df['Open'], label='Opening Price', color='black')\n",
    "\n",
    "for i in range(1, len(df)):\n",
    "    prev_date = df.index[i - 1]\n",
    "    curr_date = df.index[i]\n",
    "    \n",
    "    # Determine the sentiment color for the region\n",
    "    color_map = {'POS': 'green', 'NEG': 'red', 'NEU': 'gray', np.nan: 'gray'}\n",
    "    \n",
    "    sentiment = df['Sentiment'].iloc[i] \n",
    "    color = color_map.get(sentiment, 'gray')  \n",
    "    \n",
    "    # Use ax.axhspan to color the region between two dates\n",
    "    ax.axvspan(prev_date, curr_date, color=color, alpha=0.3)\n",
    "\n",
    "ax.set_title('AAPL Stock Price Opening Price with Daily Tweet Sentiment', fontsize=16)\n",
    "ax.set_xlabel('Date')\n",
    "ax.set_ylabel('Opening Price')"
   ]
  },
  {
   "cell_type": "code",
   "execution_count": 249,
   "id": "274a1a38-4af6-42f4-bb86-d205fdec9b22",
   "metadata": {},
   "outputs": [],
   "source": [
    "def majority_sentiment(sentiments):\n",
    "    pos_count = (sentiments == 'POS').sum()\n",
    "    neg_count = (sentiments == 'NEG').sum()\n",
    "    neu_count = (sentiments == 'NEU').sum()\n",
    "    \n",
    "    if pos_count > neg_count and pos_count > neu_count:\n",
    "        return 'POS'\n",
    "    elif neg_count > pos_count and neg_count > neu_count:\n",
    "        return 'NEG'\n",
    "    else:\n",
    "        return 'NEU'"
   ]
  },
  {
   "cell_type": "code",
   "execution_count": 251,
   "id": "4fc3b722-d749-4852-9145-5319a30e2dec",
   "metadata": {},
   "outputs": [
    {
     "data": {
      "image/png": "[encoded data removed]",
      "text/plain": [
       "<Figure size 1500x500 with 1 Axes>"
      ]
     },
     "metadata": {},
     "output_type": "display_data"
    }
   ],
   "source": [
    "fig, ax = plt.subplots(figsize=(15, 5))\n",
    "\n",
    "ax.plot(df.index, df['Open'], label='Opening Price', color='black')\n",
    "\n",
    "for i in range(4, len(df)):  # Start at 4 since we need to look back 4 days\n",
    "    prev_date = df.index[i - 4]  # \n",
    "    curr_date = df.index[i]  \n",
    "    \n",
    "\n",
    "    sentiment_last_five_days = df['Sentiment'].iloc[i-4:i+1] \n",
    "    \n",
    "    # Determine the majority sentiment over the last 5 days\n",
    "    majority = majority_sentiment(sentiment_last_five_days)\n",
    "    \n",
    "\n",
    "    color = color_map.get(majority, 'gray')\n",
    "    ax.axvspan(prev_date, curr_date, color=color, alpha=0.3)\n",
    "\n",
    "\n",
    "ax.set_title('AAPL Stock Price Opening Price with Majority Sentiment Regions (Last 5 Days)', fontsize=16)\n",
    "ax.set_xlabel('Date')\n",
    "ax.set_ylabel('Opening Price')\n",
    "\n",
    "\n",
    "plt.show()"
   ]
  }
 ],
 "metadata": {
  "kernelspec": {
   "display_name": "Python 3 (ipykernel)",
   "language": "python",
   "name": "python3"
  },
  "language_info": {
   "codemirror_mode": {
    "name": "ipython",
    "version": 3
   },
   "file_extension": ".py",
   "mimetype": "text/x-python",
   "name": "python",
   "nbconvert_exporter": "python",
   "pygments_lexer": "ipython3",
   "version": "3.10.12"
  }
 },
 "nbformat": 4,
 "nbformat_minor": 5
}
