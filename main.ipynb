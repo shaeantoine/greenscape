{
 "cells": [
  {
   "cell_type": "markdown",
   "metadata": {},
   "source": [
    "# Time Series Prediction \n",
    "\n",
    "This notebook will be dedicated to stock price prediction "
   ]
  },
  {
   "cell_type": "code",
   "execution_count": 6,
   "metadata": {},
   "outputs": [],
   "source": [
    "import pandas as pd\n",
    "import numpy as np\n",
    "import seaborn as sns\n",
    "import matplotlib.pyplot as plt\n",
    "import xgboost as xgb\n",
    "# OS\n",
    "from pathlib import Path\n",
    "import os"
   ]
  },
  {
   "cell_type": "code",
   "execution_count": 11,
   "metadata": {},
   "outputs": [
    {
     "name": "stdout",
     "output_type": "stream",
     "text": [
      "Loaded AAPL: (1258, 7)\n",
      "Loaded ABB: (1258, 7)\n",
      "Loaded ABBV: (1177, 7)\n",
      "Loaded AEP: (1258, 7)\n",
      "Loaded AGFS: (701, 7)\n",
      "Loaded AMGN: (1258, 7)\n",
      "Loaded AMZN: (1258, 7)\n",
      "Loaded BA: (1258, 7)\n",
      "Loaded BABA: (745, 7)\n",
      "Loaded BAC: (1258, 7)\n",
      "Loaded BBL: (1258, 7)\n",
      "Loaded BCH: (1258, 7)\n",
      "Loaded BHP: (1258, 7)\n",
      "Loaded BP: (1258, 7)\n",
      "Loaded BRK-A: (1258, 7)\n",
      "Loaded BSAC: (1258, 7)\n",
      "Loaded BUD: (1258, 7)\n",
      "Loaded C: (1258, 7)\n",
      "Loaded CAT: (1258, 7)\n",
      "Loaded CELG: (1258, 7)\n",
      "Loaded CHL: (1258, 7)\n",
      "Loaded CHTR: (1258, 7)\n",
      "Loaded CMCSA: (1258, 7)\n",
      "Loaded CODI: (1258, 7)\n",
      "Loaded CSCO: (1258, 7)\n",
      "Loaded CVX: (1258, 7)\n",
      "Loaded D: (1258, 7)\n",
      "Loaded DHR: (1258, 7)\n",
      "Loaded DIS: (1258, 7)\n",
      "Loaded DUK: (1258, 7)\n",
      "Loaded EXC: (1258, 7)\n",
      "Loaded FB: (1258, 7)\n",
      "Loaded GD: (1258, 7)\n",
      "Loaded GE: (1258, 7)\n",
      "Loaded GMRE: (297, 7)\n",
      "Loaded GOOG: (1258, 7)\n",
      "Loaded HD: (1258, 7)\n",
      "Loaded HON: (1258, 7)\n",
      "Loaded HRG: (1258, 7)\n",
      "Loaded HSBC: (1258, 7)\n",
      "Loaded IEP: (1258, 7)\n",
      "Loaded INTC: (1258, 7)\n",
      "Loaded JNJ: (1258, 7)\n",
      "Loaded JPM: (1258, 7)\n",
      "Loaded KO: (1258, 7)\n",
      "Loaded LMT: (1258, 7)\n",
      "Loaded MA: (1258, 7)\n",
      "Loaded MCD: (1258, 7)\n",
      "Loaded MDT: (1258, 7)\n",
      "Loaded MMM: (1258, 7)\n",
      "Loaded MO: (1258, 7)\n",
      "Loaded MRK: (1258, 7)\n",
      "Loaded MSFT: (1258, 7)\n",
      "Loaded NEE: (1258, 7)\n",
      "Loaded NGG: (1258, 7)\n",
      "Loaded NVS: (1258, 7)\n",
      "Loaded ORCL: (1258, 7)\n",
      "Loaded PCG: (1258, 7)\n",
      "Loaded PCLN: (1258, 7)\n",
      "Loaded PEP: (1258, 7)\n",
      "Loaded PFE: (1258, 7)\n",
      "Loaded PG: (1258, 7)\n",
      "Loaded PICO: (1258, 7)\n",
      "Loaded PM: (1258, 7)\n",
      "Loaded PPL: (1258, 7)\n",
      "Loaded PTR: (1258, 7)\n",
      "Loaded RDS-B: (1258, 7)\n",
      "Loaded REX: (1258, 7)\n",
      "Loaded SLB: (1258, 7)\n",
      "Loaded SNP: (1258, 7)\n",
      "Loaded SNY: (1258, 7)\n",
      "Loaded SO: (1258, 7)\n",
      "Loaded SPLP: (1258, 7)\n",
      "Loaded SRE: (1258, 7)\n",
      "Loaded T: (1258, 7)\n",
      "Loaded TM: (1258, 7)\n",
      "Loaded TOT: (1258, 7)\n",
      "Loaded TSM: (1258, 7)\n",
      "Loaded UL: (1258, 7)\n",
      "Loaded UN: (1258, 7)\n",
      "Loaded UNH: (1258, 7)\n",
      "Loaded UPS: (1258, 7)\n",
      "Loaded UTX: (1258, 7)\n",
      "Loaded V: (1258, 7)\n",
      "Loaded VZ: (1258, 7)\n",
      "Loaded WFC: (1258, 7)\n",
      "Loaded WMT: (1258, 7)\n",
      "Loaded XOM: (1258, 7)\n"
     ]
    }
   ],
   "source": [
    "\n",
    "folder_path = \"stock-price-predictions/price/\"\n",
    "chosen_company = \"AAPL\"\n",
    "dataframes = {}\n",
    "\n",
    "for filename in os.listdir(folder_path):\n",
    "    if filename.endswith('.csv'):\n",
    "        file_path = os.path.join(folder_path, filename)\n",
    "        df = pd.read_csv(file_path)\n",
    "        dataframes[filename[:-4]] = df\n",
    "\n",
    "for name, df in dataframes.items():\n",
    "    print(f\"Loaded {name}: {df.shape}\")\n"
   ]
  },
  {
   "cell_type": "code",
   "execution_count": 23,
   "metadata": {},
   "outputs": [
    {
     "name": "stdout",
     "output_type": "stream",
     "text": [
      "659.564906169668\n"
     ]
    }
   ],
   "source": [
    "df = dataframes[chosen_company]\n",
    "\n",
    "#df.set_index('Date', inplace=True)\n",
    "#df.index = pd.to_datetime(df.index)\n",
    "\n",
    "open = df[\"Open\"]\n",
    "open_ewm = open.ewm(alpha=0.5).mean()\n",
    "cov = open.cov(open_ewm)\n",
    "\n",
    "print(cov)"
   ]
  }
 ],
 "metadata": {
  "kernelspec": {
   "display_name": "Python 3",
   "language": "python",
   "name": "python3"
  },
  "language_info": {
   "codemirror_mode": {
    "name": "ipython",
    "version": 3
   },
   "file_extension": ".py",
   "mimetype": "text/x-python",
   "name": "python",
   "nbconvert_exporter": "python",
   "pygments_lexer": "ipython3",
   "version": "3.11.0"
  }
 },
 "nbformat": 4,
 "nbformat_minor": 4
}
